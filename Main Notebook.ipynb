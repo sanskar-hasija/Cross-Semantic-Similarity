{
 "cells": [
  {
   "cell_type": "markdown",
   "id": "320f99c2",
   "metadata": {
    "slideshow": {
     "slide_type": "slide"
    }
   },
   "source": [
    "<h1><center>INTRODUCTION</center></h1>"
   ]
  },
  {
   "cell_type": "markdown",
   "id": "4019b3bd",
   "metadata": {
    "slideshow": {
     "slide_type": "subslide"
    }
   },
   "source": [
    "<h3><center>PROBLEM STATEMENT</center></h3>\n",
    "<ul>\n",
    "    <li>Semantic Textual Similarity is a job in Natural Language Processing (NLP) that\n",
    "    uses a predetermined metric to score the relationship between texts or documents.</li>\n",
    "    <li>This model recognizes the similarity between two pieces of text or documents and \n",
    "        determining how similar two pieces of texts are.</li>\n",
    "    <li>This can take the form of assigning a score from 0 to 4.</li>\n",
    "    \n",
    "</ul>"
   ]
  },
  {
   "cell_type": "markdown",
   "id": "324f66b4",
   "metadata": {
    "slideshow": {
     "slide_type": "slide"
    }
   },
   "source": [
    "<h1><center>OVERVIEW</center></h1>"
   ]
  },
  {
   "cell_type": "markdown",
   "id": "18986b3a",
   "metadata": {
    "slideshow": {
     "slide_type": "subslide"
    }
   },
   "source": [
    "<ul>\n",
    "    <li>We have used the Stanford's SemEval2014 task-3 Dataset<br> <a href=\"https://alt.qcri.org/semeval2014/task3/index.php?id=data-and-tools\">Link to Dataset</a></li>\n",
    "    <li>The model can check similarity between 3 Lexical levels </li>\n",
    "    <ul>\n",
    "        <li>Paragraph to sentence,</li>\n",
    "        <li>Sentence to Phrase</li>\n",
    "        <li>Phrase to Word</li>\n",
    "    </ul>\n",
    "        <li>Five-point rating scale designed to capture to similarity of the \n",
    "            small lexical item's semantics within the semantics of the larger semantic unit.</li>\n",
    "    <li>We used BERT(Bi-Directional Encoder Representations from Transformers) to train the model.</li>\n",
    "    <li>We then passed the output of BERT to our model made of Bi-Directional LSTMs.</li>\n",
    "</ul>"
   ]
  },
  {
   "cell_type": "markdown",
   "id": "0ba268af",
   "metadata": {
    "slideshow": {
     "slide_type": "slide"
    }
   },
   "source": [
    "<h1><center>METHOD</center></h1>"
   ]
  },
  {
   "cell_type": "markdown",
   "id": "954ea5a1",
   "metadata": {
    "slideshow": {
     "slide_type": "subslide"
    }
   },
   "source": [
    "<h1><center>IMPORTING LIBRARIES</center></h1>"
   ]
  },
  {
   "cell_type": "code",
   "execution_count": 1,
   "id": "549233c0",
   "metadata": {
    "slideshow": {
     "slide_type": "subslide"
    }
   },
   "outputs": [],
   "source": [
    "import numpy as np\n",
    "import pandas as pd\n",
    "import matplotlib.pyplot as plt\n",
    "import seaborn as sns\n",
    "import plotly.express as px\n",
    "import plotly.graph_objects as go\n",
    "\n",
    "\n",
    "import transformers\n",
    "import tensorflow as tf\n",
    "from utils import BertSemanticDataGenerator\n",
    "from random import randint\n",
    "\n",
    "\n",
    "from IPython.display import clear_output\n",
    "import warnings\n",
    "warnings.filterwarnings('ignore')"
   ]
  },
  {
   "cell_type": "markdown",
   "id": "16695ed1",
   "metadata": {
    "slideshow": {
     "slide_type": "subslide"
    }
   },
   "source": [
    "<h1><center>DIRECTORIES AND HYPERPARAMETRERS</center></h1>"
   ]
  },
  {
   "cell_type": "code",
   "execution_count": 2,
   "id": "9c400a1e",
   "metadata": {
    "slideshow": {
     "slide_type": "subslide"
    }
   },
   "outputs": [],
   "source": [
    "P2S_TRAIN_INPUT_DIR = \"SemEval-2014_Task-3/data/training/paragraph2sentence.train.input.tsv\"\n",
    "P2S_TRAIN_KEYS_DIR = \"SemEval-2014_Task-3/keys/training/paragraph2sentence.train.gs.tsv\"\n",
    "P2S_VALID_INPUT_DIR = \"SemEval-2014_Task-3/data/trial/paragraph2sentence.trial.input.tsv\"\n",
    "P2S_VALID_KEYS_DIR = \"SemEval-2014_Task-3/keys/trial/paragraph2sentence.trial.gs.tsv\"\n",
    "P2S_TEST_INPUT_DIR = \"SemEval-2014_Task-3/data/test/paragraph2sentence.test.input.tsv\"\n",
    "P2S_TEST_KEYS_DIR = \"SemEval-2014_Task-3/keys/test/paragraph2sentence.test.gs.tsv\"\n",
    "\n",
    "S2P_TRAIN_INPUT_DIR = \"SemEval-2014_Task-3/data/training/sentence2phrase.train.input.tsv\"\n",
    "S2P_TRAIN_KEYS_DIR = \"SemEval-2014_Task-3/keys/training/sentence2phrase.train.gs.tsv\"\n",
    "S2P_VALID_INPUT_DIR = \"SemEval-2014_Task-3/data/trial/sentence2phrase.trial.input.tsv\"\n",
    "S2P_VALID_KEYS_DIR = \"SemEval-2014_Task-3/keys/trial/sentence2phrase.trial.gs.tsv\"\n",
    "S2P_TEST_INPUT_DIR = \"SemEval-2014_Task-3/data/test/sentence2phrase.test.input.tsv\"\n",
    "S2P_TEST_KEYS_DIR = \"SemEval-2014_Task-3/keys/test/sentence2phrase.test.gs.tsv\"\n",
    "\n",
    "P2W_TRAIN_INPUT_DIR = \"SemEval-2014_Task-3/data/training/phrase2word.train.input.tsv\"\n",
    "P2W_TRAIN_KEYS_DIR = \"SemEval-2014_Task-3/keys/training/phrase2word.train.gs.tsv\"\n",
    "P2W_VALID_INPUT_DIR = \"SemEval-2014_Task-3/data/trial/phrase2word.trial.input.tsv\"\n",
    "P2W_VALID_KEYS_DIR = \"SemEval-2014_Task-3/keys/trial/phrase2word.trial.gs.tsv\"\n",
    "P2W_TEST_INPUT_DIR = \"SemEval-2014_Task-3/data/test/phrase2word.test.input.tsv\"\n",
    "P2W_TEST_KEYS_DIR = \"SemEval-2014_Task-3/keys/test/phrase2word.test.gs.tsv\"\n",
    "\n",
    "\n",
    "max_length = 256\n",
    "batch_size = 32\n",
    "EPOCHS = 10\n",
    "labels = [0,1,2,3,4]"
   ]
  },
  {
   "cell_type": "markdown",
   "id": "a7a39764",
   "metadata": {
    "slideshow": {
     "slide_type": "subslide"
    }
   },
   "source": [
    "<h1><center> CLEANING AND LOADING DATA </center></h1>"
   ]
  },
  {
   "cell_type": "code",
   "execution_count": 3,
   "id": "f09010f8",
   "metadata": {
    "slideshow": {
     "slide_type": "subslide"
    }
   },
   "outputs": [],
   "source": [
    "def data_prep(train_dir , train_keys_dir , valid_dir, valid_keys_dir ,test_dir , test_keys_dir , to_int = True):\n",
    "    \n",
    "    train_data = pd.read_csv(train_dir,sep='\\t', header = None , names = [\"SEQ-1\", \"SEQ-2\" ,\"Travel\"])\n",
    "    del train_data[\"Travel\"]\n",
    "    train_keys = pd.read_csv(train_keys_dir,sep='\\t' , header = None , names = [\"key\"])\n",
    "    if to_int:\n",
    "        train_keys = train_keys.round().astype(\"int\")\n",
    "    train_data[\"Keys\"] = train_keys\n",
    "    \n",
    "    valid_data = pd.read_csv(valid_dir,sep='\\t', header = None , names = [\"SEQ-1\", \"SEQ-2\" ,\"Travel\"])\n",
    "    del valid_data[\"Travel\"]\n",
    "    valid_keys = pd.read_csv(valid_keys_dir,sep='\\t' , header = None , names = [\"key\"])\n",
    "    if to_int:\n",
    "        valid_keys = valid_keys.round().astype(\"int\")\n",
    "    valid_data[\"Keys\"] = valid_keys\n",
    "    \n",
    "    test_data = pd.read_csv(test_dir,sep='\\t', header = None , names = [\"SEQ-1\", \"SEQ-2\" ,\"Travel\"])\n",
    "    del test_data[\"Travel\"]\n",
    "    test_keys = pd.read_csv(test_keys_dir,sep='\\t' , header = None , names = [\"key\"])\n",
    "    if to_int:\n",
    "        test_keys = test_keys.round().astype(\"int\")\n",
    "    test_data[\"Keys\"] = test_keys\n",
    "    \n",
    "    return (train_data , valid_data , test_data)\n",
    "    \n",
    "def data_concat(p2s, s2p , p2w ):\n",
    "    \n",
    "    train = pd.concat([p2s[0] ,  s2p[0] , p2w[0] ] , ignore_index=True)\n",
    "    valid = pd.concat([p2s[1] ,  s2p[1] , p2w[1] ] , ignore_index=True)\n",
    "    test  = pd.concat([p2s[2] ,  s2p[2] , p2w[2] ] , ignore_index=True)\n",
    "    \n",
    "    return train , valid , test "
   ]
  },
  {
   "cell_type": "code",
   "execution_count": 4,
   "id": "59730aa2",
   "metadata": {
    "slideshow": {
     "slide_type": "subslide"
    }
   },
   "outputs": [],
   "source": [
    "p2s = data_prep(P2S_TRAIN_INPUT_DIR ,\n",
    "                P2S_TRAIN_KEYS_DIR , \n",
    "                P2S_VALID_INPUT_DIR , \n",
    "                P2S_VALID_KEYS_DIR ,\n",
    "                P2S_TEST_INPUT_DIR ,\n",
    "                P2S_TEST_KEYS_DIR)\n",
    "s2p = data_prep(S2P_TRAIN_INPUT_DIR ,\n",
    "                S2P_TRAIN_KEYS_DIR , \n",
    "                S2P_VALID_INPUT_DIR , \n",
    "                S2P_VALID_KEYS_DIR ,\n",
    "                S2P_TEST_INPUT_DIR ,\n",
    "                S2P_TEST_KEYS_DIR)\n",
    "p2w = data_prep(P2W_TRAIN_INPUT_DIR ,\n",
    "                P2W_TRAIN_KEYS_DIR , \n",
    "                P2W_VALID_INPUT_DIR , \n",
    "                P2W_VALID_KEYS_DIR ,\n",
    "                P2W_TEST_INPUT_DIR ,\n",
    "                P2W_TEST_KEYS_DIR)\n",
    "\n",
    "train_data , valid_data , test_data = data_concat(p2s, s2p , p2w )"
   ]
  },
  {
   "cell_type": "code",
   "execution_count": 5,
   "id": "1659ad63",
   "metadata": {
    "slideshow": {
     "slide_type": "subslide"
    }
   },
   "outputs": [
    {
     "data": {
      "text/html": [
       "<div>\n",
       "<style scoped>\n",
       "    .dataframe tbody tr th:only-of-type {\n",
       "        vertical-align: middle;\n",
       "    }\n",
       "\n",
       "    .dataframe tbody tr th {\n",
       "        vertical-align: top;\n",
       "    }\n",
       "\n",
       "    .dataframe thead th {\n",
       "        text-align: right;\n",
       "    }\n",
       "</style>\n",
       "<table border=\"1\" class=\"dataframe\">\n",
       "  <thead>\n",
       "    <tr style=\"text-align: right;\">\n",
       "      <th></th>\n",
       "      <th>SEQ-1</th>\n",
       "      <th>SEQ-2</th>\n",
       "      <th>Keys</th>\n",
       "    </tr>\n",
       "  </thead>\n",
       "  <tbody>\n",
       "    <tr>\n",
       "      <th>0</th>\n",
       "      <td>Little St-Julien-le-Pauvre, a jewel of early G...</td>\n",
       "      <td>Bricks fired on the spot are the valley’s main...</td>\n",
       "      <td>0</td>\n",
       "    </tr>\n",
       "    <tr>\n",
       "      <th>1</th>\n",
       "      <td>Next to the castle is the impressive Gothic Sé...</td>\n",
       "      <td>During the Crusades, Portuguese Crusaders ofte...</td>\n",
       "      <td>3</td>\n",
       "    </tr>\n",
       "    <tr>\n",
       "      <th>2</th>\n",
       "      <td>Manzanillo initially drew the interest of inte...</td>\n",
       "      <td>Nearby, on Calle Pío Rosado, the Museo Emilio ...</td>\n",
       "      <td>0</td>\n",
       "    </tr>\n",
       "    <tr>\n",
       "      <th>3</th>\n",
       "      <td>Alongside a landmark water tower is a good ope...</td>\n",
       "      <td>Following a Mongol invasion, King Belá IV made...</td>\n",
       "      <td>2</td>\n",
       "    </tr>\n",
       "    <tr>\n",
       "      <th>4</th>\n",
       "      <td>Most beaches protected from the open ocean hav...</td>\n",
       "      <td>Boat cruises offer a care free way to enjoy th...</td>\n",
       "      <td>3</td>\n",
       "    </tr>\n",
       "    <tr>\n",
       "      <th>...</th>\n",
       "      <td>...</td>\n",
       "      <td>...</td>\n",
       "      <td>...</td>\n",
       "    </tr>\n",
       "    <tr>\n",
       "      <th>1495</th>\n",
       "      <td>restrictions on foreign investments</td>\n",
       "      <td>collectables</td>\n",
       "      <td>0</td>\n",
       "    </tr>\n",
       "    <tr>\n",
       "      <th>1496</th>\n",
       "      <td>dangerous products that have been marketed</td>\n",
       "      <td>products</td>\n",
       "      <td>2</td>\n",
       "    </tr>\n",
       "    <tr>\n",
       "      <th>1497</th>\n",
       "      <td>pounds to us dollars</td>\n",
       "      <td>exchange</td>\n",
       "      <td>4</td>\n",
       "    </tr>\n",
       "    <tr>\n",
       "      <th>1498</th>\n",
       "      <td>the guy who calls me beautiful instead of hot</td>\n",
       "      <td>compliments</td>\n",
       "      <td>2</td>\n",
       "    </tr>\n",
       "    <tr>\n",
       "      <th>1499</th>\n",
       "      <td>approximate cost of golden retriever puppy</td>\n",
       "      <td>puppy</td>\n",
       "      <td>2</td>\n",
       "    </tr>\n",
       "  </tbody>\n",
       "</table>\n",
       "<p>1500 rows × 3 columns</p>\n",
       "</div>"
      ],
      "text/plain": [
       "                                                  SEQ-1  \\\n",
       "0     Little St-Julien-le-Pauvre, a jewel of early G...   \n",
       "1     Next to the castle is the impressive Gothic Sé...   \n",
       "2     Manzanillo initially drew the interest of inte...   \n",
       "3     Alongside a landmark water tower is a good ope...   \n",
       "4     Most beaches protected from the open ocean hav...   \n",
       "...                                                 ...   \n",
       "1495                restrictions on foreign investments   \n",
       "1496         dangerous products that have been marketed   \n",
       "1497                               pounds to us dollars   \n",
       "1498      the guy who calls me beautiful instead of hot   \n",
       "1499         approximate cost of golden retriever puppy   \n",
       "\n",
       "                                                  SEQ-2  Keys  \n",
       "0     Bricks fired on the spot are the valley’s main...     0  \n",
       "1     During the Crusades, Portuguese Crusaders ofte...     3  \n",
       "2     Nearby, on Calle Pío Rosado, the Museo Emilio ...     0  \n",
       "3     Following a Mongol invasion, King Belá IV made...     2  \n",
       "4     Boat cruises offer a care free way to enjoy th...     3  \n",
       "...                                                 ...   ...  \n",
       "1495                                       collectables     0  \n",
       "1496                                           products     2  \n",
       "1497                                           exchange     4  \n",
       "1498                                        compliments     2  \n",
       "1499                                              puppy     2  \n",
       "\n",
       "[1500 rows x 3 columns]"
      ]
     },
     "execution_count": 5,
     "metadata": {},
     "output_type": "execute_result"
    }
   ],
   "source": [
    "train_data"
   ]
  },
  {
   "cell_type": "code",
   "execution_count": 6,
   "id": "a0aa348d",
   "metadata": {
    "slideshow": {
     "slide_type": "subslide"
    }
   },
   "outputs": [
    {
     "data": {
      "text/plain": [
       "<AxesSubplot:>"
      ]
     },
     "execution_count": 6,
     "metadata": {},
     "output_type": "execute_result"
    },
    {
     "data": {
      "image/png": "[encoded data removed]",
      "text/plain": [
       "<Figure size 432x288 with 1 Axes>"
      ]
     },
     "metadata": {
      "needs_background": "light"
     },
     "output_type": "display_data"
    }
   ],
   "source": [
    "sns.barplot(x = np.unique(train_data[\"Keys\"]),\n",
    "             y =  [list(train_data[\"Keys\"]).count(i) for i in np.unique(train_data[\"Keys\"])])"
   ]
  },
  {
   "cell_type": "code",
   "execution_count": 7,
   "id": "068a54ef",
   "metadata": {
    "slideshow": {
     "slide_type": "subslide"
    }
   },
   "outputs": [
    {
     "data": {
      "text/plain": [
       "<AxesSubplot:>"
      ]
     },
     "execution_count": 7,
     "metadata": {},
     "output_type": "execute_result"
    },
    {
     "data": {
      "image/png": "[encoded data removed]",
      "text/plain": [
       "<Figure size 432x288 with 1 Axes>"
      ]
     },
     "metadata": {
      "needs_background": "light"
     },
     "output_type": "display_data"
    }
   ],
   "source": [
    "sns.barplot(x = np.unique(test_data[\"Keys\"]),\n",
    "             y =  [list(test_data[\"Keys\"]).count(i) for i in np.unique(train_data[\"Keys\"])])"
   ]
  },
  {
   "cell_type": "code",
   "execution_count": 8,
   "id": "120915a9",
   "metadata": {
    "slideshow": {
     "slide_type": "subslide"
    }
   },
   "outputs": [
    {
     "data": {
      "text/plain": [
       "<AxesSubplot:>"
      ]
     },
     "execution_count": 8,
     "metadata": {},
     "output_type": "execute_result"
    },
    {
     "data": {
      "image/png": "[encoded data removed]",
      "text/plain": [
       "<Figure size 432x288 with 1 Axes>"
      ]
     },
     "metadata": {
      "needs_background": "light"
     },
     "output_type": "display_data"
    }
   ],
   "source": [
    "sns.barplot(x = np.unique(valid_data[\"Keys\"]),\n",
    "             y =  [list(valid_data[\"Keys\"]).count(i) for i in np.unique(train_data[\"Keys\"])])"
   ]
  },
  {
   "cell_type": "markdown",
   "id": "45844215",
   "metadata": {
    "slideshow": {
     "slide_type": "slide"
    }
   },
   "source": [
    "<h1><center>DATA PREPROCESSING</center></h1>\n"
   ]
  },
  {
   "cell_type": "code",
   "execution_count": 9,
   "id": "7a772214",
   "metadata": {
    "slideshow": {
     "slide_type": "subslide"
    }
   },
   "outputs": [],
   "source": [
    "y_train = tf.keras.utils.to_categorical(train_data[\"Keys\"] , num_classes= 5 )\n",
    "y_test = tf.keras.utils.to_categorical(test_data[\"Keys\"] , num_classes= 5 )\n",
    "y_valid = tf.keras.utils.to_categorical(valid_data[\"Keys\"] , num_classes= 5 )"
   ]
  },
  {
   "cell_type": "markdown",
   "id": "d1c230f0",
   "metadata": {
    "slideshow": {
     "slide_type": "subslide"
    }
   },
   "source": [
    "<h1><center> LOADING DATA BATCHES </center></h1>"
   ]
  },
  {
   "cell_type": "code",
   "execution_count": 10,
   "id": "454c5315",
   "metadata": {
    "slideshow": {
     "slide_type": "subslide"
    }
   },
   "outputs": [],
   "source": [
    "train = BertSemanticDataGenerator(\n",
    "    train_data[[\"SEQ-1\", \"SEQ-2\"]].values.astype(\"str\"),\n",
    "    y_train,\n",
    "    batch_size=batch_size,\n",
    "    shuffle=True,\n",
    ")\n",
    "valid = BertSemanticDataGenerator(\n",
    "    valid_data[[\"SEQ-1\", \"SEQ-2\"]].values.astype(\"str\"),\n",
    "    y_valid,\n",
    "    batch_size=batch_size,\n",
    "    shuffle=False,\n",
    ")\n",
    "test = BertSemanticDataGenerator(\n",
    "    test_data[[\"SEQ-1\", \"SEQ-2\"]].values.astype(\"str\"),\n",
    "    y_test,\n",
    "    batch_size=batch_size,\n",
    "    shuffle=False,\n",
    ")"
   ]
  },
  {
   "cell_type": "markdown",
   "id": "4d63604a",
   "metadata": {
    "slideshow": {
     "slide_type": "slide"
    }
   },
   "source": [
    "<h1><center>MODEL</center></h1>"
   ]
  },
  {
   "cell_type": "code",
   "execution_count": 11,
   "id": "20dd934b",
   "metadata": {
    "scrolled": true,
    "slideshow": {
     "slide_type": "subslide"
    }
   },
   "outputs": [],
   "source": [
    "strategy = tf.distribute.MirroredStrategy()\n",
    "\n",
    "with strategy.scope():\n",
    "    input_ids = tf.keras.layers.Input(shape=(max_length,), \n",
    "                                      dtype=tf.int32, \n",
    "                                      name=\"input_ids\")\n",
    "    attention_masks = tf.keras.layers.Input(shape=(max_length,), \n",
    "                                            dtype=tf.int32, \n",
    "                                            name=\"attention_masks\")\n",
    "    token_type_ids = tf.keras.layers.Input(shape=(max_length,), \n",
    "                                           dtype=tf.int32, \n",
    "                                           name=\"token_type_ids\")\n",
    "    \n",
    "    bert_model = transformers.TFBertModel.from_pretrained(\"bert-base-uncased\")\n",
    "    bert_model.trainable = False\n",
    "\n",
    "    sequence_output, pooled_output = bert_model(input_ids, \n",
    "                                                attention_mask=attention_masks, \n",
    "                                                token_type_ids=token_type_ids)\n",
    "    bi_lstm = tf.keras.layers.Bidirectional(tf.keras.layers.LSTM(64, return_sequences=True))(sequence_output)\n",
    "    avg_pool = tf.keras.layers.GlobalAveragePooling1D()(bi_lstm)\n",
    "    max_pool = tf.keras.layers.GlobalMaxPooling1D()(bi_lstm)\n",
    "    concat = tf.keras.layers.concatenate([avg_pool, max_pool])\n",
    "    dropout = tf.keras.layers.Dropout(0.3)(concat)\n",
    "    output = tf.keras.layers.Dense(5, activation=\"softmax\")(dropout)\n",
    "    model = tf.keras.models.Model(inputs=[input_ids, attention_masks, token_type_ids], \n",
    "                                  outputs=output)\n",
    "    \n",
    "    model.compile(\n",
    "        optimizer=tf.keras.optimizers.Adam(),\n",
    "        loss=\"categorical_crossentropy\",\n",
    "        metrics=[\"acc\"],\n",
    "    )\n",
    "\n",
    "clear_output()\n"
   ]
  },
  {
   "cell_type": "code",
   "execution_count": 12,
   "id": "768b84ff",
   "metadata": {
    "slideshow": {
     "slide_type": "subslide"
    }
   },
   "outputs": [
    {
     "name": "stdout",
     "output_type": "stream",
     "text": [
      "Model: \"model\"\n",
      "__________________________________________________________________________________________________\n",
      "Layer (type)                    Output Shape         Param #     Connected to                     \n",
      "==================================================================================================\n",
      "input_ids (InputLayer)          [(None, 256)]        0                                            \n",
      "__________________________________________________________________________________________________\n",
      "attention_masks (InputLayer)    [(None, 256)]        0                                            \n",
      "__________________________________________________________________________________________________\n",
      "token_type_ids (InputLayer)     [(None, 256)]        0                                            \n",
      "__________________________________________________________________________________________________\n",
      "tf_bert_model (TFBertModel)     ((None, 256, 768), ( 109482240   input_ids[0][0]                  \n",
      "__________________________________________________________________________________________________\n",
      "bidirectional (Bidirectional)   (None, 256, 128)     426496      tf_bert_model[0][0]              \n",
      "__________________________________________________________________________________________________\n",
      "global_average_pooling1d (Globa (None, 128)          0           bidirectional[0][0]              \n",
      "__________________________________________________________________________________________________\n",
      "global_max_pooling1d (GlobalMax (None, 128)          0           bidirectional[0][0]              \n",
      "__________________________________________________________________________________________________\n",
      "concatenate (Concatenate)       (None, 256)          0           global_average_pooling1d[0][0]   \n",
      "                                                                 global_max_pooling1d[0][0]       \n",
      "__________________________________________________________________________________________________\n",
      "dropout_37 (Dropout)            (None, 256)          0           concatenate[0][0]                \n",
      "__________________________________________________________________________________________________\n",
      "dense (Dense)                   (None, 5)            1285        dropout_37[0][0]                 \n",
      "==================================================================================================\n",
      "Total params: 109,910,021\n",
      "Trainable params: 427,781\n",
      "Non-trainable params: 109,482,240\n",
      "__________________________________________________________________________________________________\n"
     ]
    }
   ],
   "source": [
    "model.summary()"
   ]
  },
  {
   "cell_type": "markdown",
   "id": "246a9b98",
   "metadata": {
    "slideshow": {
     "slide_type": "slide"
    }
   },
   "source": [
    "<h1><center> TRAINING THE MODEL </center></h1>"
   ]
  },
  {
   "cell_type": "code",
   "execution_count": 13,
   "id": "c21f1e22",
   "metadata": {
    "scrolled": true,
    "slideshow": {
     "slide_type": "subslide"
    }
   },
   "outputs": [
    {
     "name": "stdout",
     "output_type": "stream",
     "text": [
      "WARNING:tensorflow:sample_weight modes were coerced from\n",
      "  ...\n",
      "    to  \n",
      "  ['...']\n",
      "Train for 46 steps\n",
      "Epoch 1/10\n",
      "INFO:tensorflow:Reduce to /job:localhost/replica:0/task:0/device:CPU:0 then broadcast to ('/job:localhost/replica:0/task:0/device:CPU:0',).\n",
      "INFO:tensorflow:Reduce to /job:localhost/replica:0/task:0/device:CPU:0 then broadcast to ('/job:localhost/replica:0/task:0/device:CPU:0',).\n",
      "INFO:tensorflow:Reduce to /job:localhost/replica:0/task:0/device:CPU:0 then broadcast to ('/job:localhost/replica:0/task:0/device:CPU:0',).\n",
      "INFO:tensorflow:Reduce to /job:localhost/replica:0/task:0/device:CPU:0 then broadcast to ('/job:localhost/replica:0/task:0/device:CPU:0',).\n",
      "46/46 [==============================] - 64s 1s/step - loss: 1.5704 - acc: 0.3139\n",
      "Epoch 2/10\n",
      "46/46 [==============================] - 44s 954ms/step - loss: 1.3483 - acc: 0.4355\n",
      "Epoch 3/10\n",
      "46/46 [==============================] - 43s 945ms/step - loss: 1.2173 - acc: 0.4864\n",
      "Epoch 4/10\n",
      "46/46 [==============================] - 45s 973ms/step - loss: 1.1237 - acc: 0.5421\n",
      "Epoch 5/10\n",
      "46/46 [==============================] - 47s 1s/step - loss: 1.0273 - acc: 0.5856\n",
      "Epoch 6/10\n",
      "46/46 [==============================] - 47s 1s/step - loss: 0.9539 - acc: 0.6338\n",
      "Epoch 7/10\n",
      "46/46 [==============================] - 48s 1s/step - loss: 0.8632 - acc: 0.6678\n",
      "Epoch 8/10\n",
      "46/46 [==============================] - 48s 1s/step - loss: 0.8025 - acc: 0.7038\n",
      "Epoch 9/10\n",
      "46/46 [==============================] - 47s 1s/step - loss: 0.7131 - acc: 0.7289\n",
      "Epoch 10/10\n",
      "46/46 [==============================] - 47s 1s/step - loss: 0.6474 - acc: 0.7582\n"
     ]
    }
   ],
   "source": [
    "history = model.fit(\n",
    "    train,\n",
    "    epochs=EPOCHS,\n",
    "    use_multiprocessing=True,\n",
    "    workers=-1,\n",
    ")\n",
    "history = pd.DataFrame(history.history)"
   ]
  },
  {
   "cell_type": "markdown",
   "id": "52b03045",
   "metadata": {
    "slideshow": {
     "slide_type": "slide"
    }
   },
   "source": [
    "<h1><center>RESULTS</center></h1>"
   ]
  },
  {
   "cell_type": "markdown",
   "id": "bcd73588",
   "metadata": {
    "slideshow": {
     "slide_type": "subslide"
    }
   },
   "source": [
    "<h3><center> TRAINING ACCURACY GRAPH </center></h3>"
   ]
  },
  {
   "cell_type": "code",
   "execution_count": 14,
   "id": "f0e6c86d",
   "metadata": {
    "slideshow": {
     "slide_type": "subslide"
    }
   },
   "outputs": [
    {
     "name": "stdout",
     "output_type": "stream",
     "text": [
      "ERROR! Session/line number was not unique in database. History logging moved to new session 1143\n"
     ]
    },
    {
     "data": {
      "image/png": "[encoded data removed]",
      "text/plain": [
       "<Figure size 432x288 with 1 Axes>"
      ]
     },
     "metadata": {
      "needs_background": "light"
     },
     "output_type": "display_data"
    }
   ],
   "source": [
    "plt.plot(history[\"acc\"], label= \"Accuracy\" , color = 'r'  , marker = 'o' )\n",
    "plt.xlabel(\"No. of Epochs\")\n",
    "plt.ylabel(\"Accuracy\")\n",
    "plt.title(\"Accuracy vs No. of epochs\")\n",
    "plt.legend();"
   ]
  },
  {
   "cell_type": "markdown",
   "id": "1c7ec5ea",
   "metadata": {
    "slideshow": {
     "slide_type": "subslide"
    }
   },
   "source": [
    "<h3><center> TRAINING LOSS GRAPH </center></h3>"
   ]
  },
  {
   "cell_type": "code",
   "execution_count": 15,
   "id": "77277d59",
   "metadata": {
    "slideshow": {
     "slide_type": "subslide"
    }
   },
   "outputs": [
    {
     "data": {
      "image/png": "[encoded data removed]",
      "text/plain": [
       "<Figure size 432x288 with 1 Axes>"
      ]
     },
     "metadata": {
      "needs_background": "light"
     },
     "output_type": "display_data"
    }
   ],
   "source": [
    "plt.plot(history[\"loss\"], label= \"Loss\" , color= 'r', marker = 'o' )\n",
    "plt.xlabel(\"No. of Epochs\")\n",
    "plt.ylabel(\"Loss\")\n",
    "plt.title(\"Loss vs No. of epochs\")\n",
    "plt.legend();"
   ]
  },
  {
   "cell_type": "code",
   "execution_count": 16,
   "id": "4fd9f6f3",
   "metadata": {
    "slideshow": {
     "slide_type": "skip"
    }
   },
   "outputs": [
    {
     "name": "stdout",
     "output_type": "stream",
     "text": [
      "WARNING:tensorflow:sample_weight modes were coerced from\n",
      "  ...\n",
      "    to  \n",
      "  ['...']\n"
     ]
    },
    {
     "name": "stderr",
     "output_type": "stream",
     "text": [
      "WARNING:tensorflow:sample_weight modes were coerced from\n",
      "  ...\n",
      "    to  \n",
      "  ['...']\n"
     ]
    },
    {
     "name": "stdout",
     "output_type": "stream",
     "text": [
      "INFO:tensorflow:Reduce to /job:localhost/replica:0/task:0/device:CPU:0 then broadcast to ('/job:localhost/replica:0/task:0/device:CPU:0',).\n"
     ]
    },
    {
     "name": "stderr",
     "output_type": "stream",
     "text": [
      "INFO:tensorflow:Reduce to /job:localhost/replica:0/task:0/device:CPU:0 then broadcast to ('/job:localhost/replica:0/task:0/device:CPU:0',).\n"
     ]
    },
    {
     "name": "stdout",
     "output_type": "stream",
     "text": [
      "INFO:tensorflow:Reduce to /job:localhost/replica:0/task:0/device:CPU:0 then broadcast to ('/job:localhost/replica:0/task:0/device:CPU:0',).\n"
     ]
    },
    {
     "name": "stderr",
     "output_type": "stream",
     "text": [
      "INFO:tensorflow:Reduce to /job:localhost/replica:0/task:0/device:CPU:0 then broadcast to ('/job:localhost/replica:0/task:0/device:CPU:0',).\n"
     ]
    },
    {
     "name": "stdout",
     "output_type": "stream",
     "text": [
      "46/46 [==============================] - 41s 895ms/step - loss: 1.3511 - acc: 0.4857\n"
     ]
    },
    {
     "data": {
      "text/plain": [
       "[1.3510682919751043, 0.4857337]"
      ]
     },
     "execution_count": 16,
     "metadata": {},
     "output_type": "execute_result"
    }
   ],
   "source": [
    "model.evaluate(test, verbose=1)"
   ]
  },
  {
   "cell_type": "markdown",
   "id": "db101675",
   "metadata": {
    "slideshow": {
     "slide_type": "slide"
    }
   },
   "source": [
    "<h1><center> EVALUATING MODEL </center></h1>"
   ]
  },
  {
   "cell_type": "code",
   "execution_count": 17,
   "id": "c52ea073",
   "metadata": {
    "slideshow": {
     "slide_type": "subslide"
    }
   },
   "outputs": [],
   "source": [
    "def check_similarity():\n",
    "    index = randint(1,1500)\n",
    "    seq1 = test_data[\"SEQ-1\"][index]\n",
    "    seq2 = test_data[\"SEQ-2\"][index]\n",
    "    key = test_data[\"Keys\"][index]\n",
    "    sentence_pairs = np.array([[str(seq1), str(seq2)]])\n",
    "    test_data_1 = BertSemanticDataGenerator(\n",
    "        sentence_pairs, labels=None, batch_size=1, shuffle=False, include_targets=False,\n",
    "    )\n",
    "\n",
    "    proba = model.predict(test_data_1)[0]\n",
    "    idx = np.argmax(proba)\n",
    "    proba = f\"{proba[idx]: .2f}%\"\n",
    "    pred = labels[idx]\n",
    "    return (seq1 , seq2 , key ,pred, proba)"
   ]
  },
  {
   "cell_type": "code",
   "execution_count": 40,
   "id": "0bdb5b49",
   "metadata": {
    "slideshow": {
     "slide_type": "subslide"
    }
   },
   "outputs": [
    {
     "name": "stdout",
     "output_type": "stream",
     "text": [
      "Sequence 1 : Do I really Need internet explorer in my windows? I use firefox more than often (safer). Is it ok to just deinstall internet explorer?\n",
      "\n",
      "Sequence 2  When using a safer, better web browser such as Firefox, is it possible to uninstall others such as Internet Explorer?\n",
      "\n",
      "Orignal Key: 3\n",
      "Predicted Key 3\n",
      "Probability of Prediction  0.90%\n"
     ]
    }
   ],
   "source": [
    "seq1,seq2, key, pred, prob = check_similarity()\n",
    "clear_output()\n",
    "\n",
    "print(\"Sequence 1 :\", seq1 )\n",
    "print()\n",
    "print(\"Sequence 2 \" ,seq2)\n",
    "print()\n",
    "print(\"Orignal Key:\" ,key)\n",
    "print(\"Predicted Key\",pred)\n",
    "print(\"Probability of Prediction\" , prob)"
   ]
  }
 ],
 "metadata": {
  "kernelspec": {
   "display_name": "Python 3",
   "language": "python",
   "name": "python3"
  },
  "language_info": {
   "codemirror_mode": {
    "name": "ipython",
    "version": 3
   },
   "file_extension": ".py",
   "mimetype": "text/x-python",
   "name": "python",
   "nbconvert_exporter": "python",
   "pygments_lexer": "ipython3",
   "version": "3.6.13"
  }
 },
 "nbformat": 4,
 "nbformat_minor": 5
}
